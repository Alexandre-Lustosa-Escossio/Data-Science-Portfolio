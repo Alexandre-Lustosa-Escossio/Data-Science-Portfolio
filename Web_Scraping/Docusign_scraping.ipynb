{
 "cells": [
  {
   "cell_type": "markdown",
   "metadata": {},
   "source": [
    "# Selenium Web Scraping"
   ]
  },
  {
   "cell_type": "markdown",
   "metadata": {},
   "source": [
    "# Importando Bibliotecas"
   ]
  },
  {
   "cell_type": "code",
   "execution_count": null,
   "metadata": {},
   "outputs": [],
   "source": [
    "from urllib.request import urlopen,Request\n",
    "import pandas as pd\n",
    "from urllib.error import URLError, HTTPError\n",
    "from selenium import webdriver\n",
    "import time\n",
    "import requests\n",
    "from selenium.webdriver.firefox.firefox_binary import FirefoxBinary\n",
    "from selenium.webdriver.common.keys import Keys\n",
    "\n"
   ]
  },
  {
   "cell_type": "markdown",
   "metadata": {},
   "source": [
    "## Logando no site"
   ]
  },
  {
   "cell_type": "code",
   "execution_count": null,
   "metadata": {},
   "outputs": [],
   "source": [
    "\n",
    "driver = webdriver.Firefox(executable_path=r'C:\\Users\\Alexandre\\Downloads\\geckodriver-v0.29.1-win64\\geckodriver.exe')\n",
    "driver.get(\"https://account.docusign.com/oauth/auth?response_type=code&scope=all%20click.manage%20me_profile%20room_forms%20inproductcommunication_read%20data_explorer_signing_insights%20notary_read%20notary_write%20search_read%20search_write&client_id=2CC56DC9-4BCD-4B55-8AB0-8BA60BAE1065&redirect_uri=https%3A%2F%2Fapp.docusign.com%2Foauth%2Fcallback&state=%7B%22dscj_ft%22%3A%22https%3A%2F%2Fwww.google.com%2F%2C1618355613%2Chttps%3A%2F%2Fwww.docusign.com.br%2F%22%2C%22dscj_lt%22%3A%22https%3A%2F%2Fwww.google.com%2F%2C1618356520%2Chttps%3A%2F%2Fwww.docusign.com.br%2F%22%2C%22dscj_m%22%3A%22referringUrl%2Cts%2Ccu%22%2C%22authTxnId%22%3A%22508ced06-9b2f-407d-b91d-7c9253c57abd%22%7D#/username\")\n",
    "time.sleep(3)\n",
    "username = driver.find_element_by_id('username')\n",
    "username.send_keys(\"username@username.com.br\")\n",
    "time.sleep(2)\n",
    "login_attempt = driver.find_element_by_class_name('btn-main').click()\n",
    "time.sleep(5)\n",
    "driver.get('https://account.docusign.com/username?response_type=code&scope=all%20click.manage%20me_profile%20room_forms%20inproductcommunication_read%20data_explorer_signing_insights%20notary_read%20notary_write%20search_read%20search_write&client_id=2CC56DC9-4BCD-4B55-8AB0-8BA60BAE1065&redirect_uri=https%3A%2F%2Fapp.docusign.com%2Foauth%2Fcallback&state=%7B%22dscj_ft%22%3A%22https%3A%2F%2Fwww.google.com%2F%2C1618355613%2Chttps%3A%2F%2Fwww.docusign.com.br%2F%22%2C%22dscj_lt%22%3A%22https%3A%2F%2Fwww.google.com%2F%2C1618356520%2Chttps%3A%2F%2Fwww.docusign.com.br%2F%22%2C%22dscj_m%22%3A%22referringUrl%2Cts%2Ccu%22%2C%22authTxnId%22%3A%22508ced06-9b2f-407d-b91d-7c9253c57abd%22%7D#/password')\n",
    "password = driver.find_element_by_id('password')\n",
    "password.send_keys('password')\n",
    "login_attempt = driver.find_element_by_class_name('btn-main').click()\n"
   ]
  },
  {
   "cell_type": "markdown",
   "metadata": {},
   "source": [
    "## Acessando a guia desejada"
   ]
  },
  {
   "cell_type": "code",
   "execution_count": null,
   "metadata": {},
   "outputs": [],
   "source": [
    "driver.get('https://app.docusign.com/home')\n",
    "time.sleep(10)\n",
    "aguardando_assinaturas = driver.find_element_by_xpath(\"//a[@data-qa='waiting-count']\").click()"
   ]
  },
  {
   "cell_type": "code",
   "execution_count": null,
   "metadata": {},
   "outputs": [],
   "source": [
    "driver.get('https://app.docusign.com/documents?label=waiting-for-others')\n",
    "time.sleep(10)"
   ]
  },
  {
   "cell_type": "markdown",
   "metadata": {},
   "source": [
    "## Extraindo informações"
   ]
  },
  {
   "cell_type": "code",
   "execution_count": null,
   "metadata": {},
   "outputs": [],
   "source": [
    "cards = []"
   ]
  },
  {
   "cell_type": "code",
   "execution_count": null,
   "metadata": {},
   "outputs": [],
   "source": [
    "def get_html():\n",
    "    html = driver.page_source\n",
    "    soup = BeautifulSoup(html,'html.parser')\n",
    "    return soup"
   ]
  },
  {
   "cell_type": "code",
   "execution_count": null,
   "metadata": {},
   "outputs": [],
   "source": [
    "def get_infos(soup):\n",
    "    linhas = soup.findAll('tr',{'class':'css-1m8dflm'})\n",
    "    for linha in linhas:\n",
    "        card = {}\n",
    "        card['num_contrato'] = linha.find('div',{'class':'u-ellipsis'}).get_text()\n",
    "        card['progresso_assinatura'] = linha.find('span',{'class':'progress-bar-recipients-count'}).get_text()\n",
    "        cards.append(card)\n",
    "    \n",
    "       "
   ]
  },
  {
   "cell_type": "code",
   "execution_count": null,
   "metadata": {},
   "outputs": [],
   "source": [
    "def scroll_down():    \n",
    "    box = driver.find_element_by_xpath(\"//div[@data-qa='manage-envelopes-list']\")\n",
    "    time.sleep(5)\n",
    "    #driver.execute_script('arguments[0].scrollTop = arguments[0].scrollHeight', box)\n",
    "    box.send_keys(Keys.PAGE_DOWN)\n",
    "    "
   ]
  },
  {
   "cell_type": "code",
   "execution_count": null,
   "metadata": {},
   "outputs": [],
   "source": [
    "def main_func():\n",
    "    i = 0\n",
    "    for i in range(0,10):\n",
    "        cod_html = get_html()\n",
    "        get_infos(cod_html)\n",
    "        scroll_down()\n",
    "    "
   ]
  },
  {
   "cell_type": "code",
   "execution_count": null,
   "metadata": {},
   "outputs": [],
   "source": [
    "def get_unique() :\n",
    "    seen = set()\n",
    "    unique_cards = []\n",
    "    for card in cards:\n",
    "        tupla = tuple(sorted(card.items()))\n",
    "        if tupla not in seen:\n",
    "            seen.add(tupla)\n",
    "            unique_cards.append(card)\n",
    "    return unique_cards\n",
    "        "
   ]
  },
  {
   "cell_type": "code",
   "execution_count": null,
   "metadata": {},
   "outputs": [],
   "source": [
    "main_func()"
   ]
  },
  {
   "cell_type": "code",
   "execution_count": null,
   "metadata": {},
   "outputs": [],
   "source": [
    "contratos = get_unique()"
   ]
  },
  {
   "cell_type": "code",
   "execution_count": null,
   "metadata": {},
   "outputs": [],
   "source": [
    "contratos_df.to_excel('progresso_de_assinatura_contratos.xlsx')"
   ]
  }
 ],
 "metadata": {
  "kernelspec": {
   "display_name": "Python 3",
   "language": "python",
   "name": "python3"
  },
  "language_info": {
   "codemirror_mode": {
    "name": "ipython",
    "version": 3
   },
   "file_extension": ".py",
   "mimetype": "text/x-python",
   "name": "python",
   "nbconvert_exporter": "python",
   "pygments_lexer": "ipython3",
   "version": "3.8.5"
  }
 },
 "nbformat": 4,
 "nbformat_minor": 4
}
